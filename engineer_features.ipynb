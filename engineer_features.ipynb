{
 "cells": [
  {
   "cell_type": "markdown",
   "id": "2f4a52c6-056e-419a-8073-17a4b509a9e7",
   "metadata": {},
   "source": [
    "# Create variables"
   ]
  },
  {
   "cell_type": "code",
   "execution_count": 2,
   "id": "1d502457-b64b-460e-a596-883e3f48620a",
   "metadata": {},
   "outputs": [],
   "source": [
    "import numpy as np\n",
    "import pandas as pd\n",
    "import os\n",
    "import pickle\n",
    "from joblib import Parallel, delayed\n",
    "import re\n",
    "import matplotlib.pyplot as plt\n",
    "import seaborn as sns\n",
    "\n",
    "d = './raw_data/'"
   ]
  },
  {
   "cell_type": "code",
   "execution_count": 5,
   "id": "9e459f91-7e6f-4b19-888d-73734233c5db",
   "metadata": {},
   "outputs": [
    {
     "name": "stderr",
     "output_type": "stream",
     "text": [
      "/var/folders/_q/50__mrnj2zv6hb8crhk3q46m0000gn/T/ipykernel_14611/3513447208.py:2: DeprecationWarning: numpy.core.numeric is deprecated and has been renamed to numpy._core.numeric. The numpy._core namespace contains private NumPy internals and its use is discouraged, as NumPy internals can change without warning in any release. In practice, most real-world usage of numpy.core is to access functionality in the public NumPy API. If that is the case, use the public NumPy API. If not, you are using NumPy internals. If you would still like to access an internal attribute, use numpy._core.numeric._frombuffer.\n",
      "  clean_data = pickle.load(filename)\n"
     ]
    }
   ],
   "source": [
    "with open('processed_data/clean_build.pkl', 'rb') as filename:  \n",
    "    clean_data = pickle.load(filename)"
   ]
  },
  {
   "cell_type": "code",
   "execution_count": 9,
   "id": "d8bcb682-31be-425d-a7e1-a37eda9e3c93",
   "metadata": {},
   "outputs": [
    {
     "name": "stdout",
     "output_type": "stream",
     "text": [
      "<class 'pandas.core.frame.DataFrame'>\n",
      "RangeIndex: 6822 entries, 0 to 6821\n",
      "Data columns (total 41 columns):\n",
      " #   Column                    Non-Null Count  Dtype  \n",
      "---  ------                    --------------  -----  \n",
      " 0   title                     6822 non-null   object \n",
      " 1   budget                    6822 non-null   float64\n",
      " 2   worldwide_boxoffice       6822 non-null   float64\n",
      " 3   domestic_boxoffice        6822 non-null   float64\n",
      " 4   clean_title               6822 non-null   object \n",
      " 5   imdb_id                   6812 non-null   object \n",
      " 6   release_date              6766 non-null   object \n",
      " 7   year                      6766 non-null   float64\n",
      " 8   top_director              6822 non-null   object \n",
      " 9   top_cast                  6822 non-null   object \n",
      " 10  rating                    6822 non-null   float64\n",
      " 11  runtime                   6822 non-null   float64\n",
      " 12  original_language         6822 non-null   object \n",
      " 13  enrichment_source         6822 non-null   object \n",
      " 14  boxoffice_corrected       6822 non-null   int64  \n",
      " 15  genres_list               6822 non-null   object \n",
      " 16  is_drama                  6822 non-null   int64  \n",
      " 17  is_comedy                 6822 non-null   int64  \n",
      " 18  is_action                 6822 non-null   int64  \n",
      " 19  is_thriller               6822 non-null   int64  \n",
      " 20  is_adventure              6822 non-null   int64  \n",
      " 21  is_romance                6822 non-null   int64  \n",
      " 22  is_crime                  6822 non-null   int64  \n",
      " 23  is_science_fiction        6822 non-null   int64  \n",
      " 24  is_horror                 6822 non-null   int64  \n",
      " 25  is_family                 6822 non-null   int64  \n",
      " 26  top_production_companies  6822 non-null   object \n",
      " 27  top_production_countries  6822 non-null   object \n",
      " 28  certificate               6822 non-null   object \n",
      " 29  decade                    6822 non-null   object \n",
      " 30  runtime_category          6822 non-null   object \n",
      " 31  release_month             6766 non-null   float64\n",
      " 32  is_Winter_Holiday         6822 non-null   int64  \n",
      " 33  is_Summer                 6822 non-null   int64  \n",
      " 34  is_Awards                 6822 non-null   int64  \n",
      " 35  is_Spring                 6822 non-null   int64  \n",
      " 36  is_Fall                   6822 non-null   int64  \n",
      " 37  top_director_id           6812 non-null   object \n",
      " 38  top_cast_id               6810 non-null   object \n",
      " 39  top_director_list         6822 non-null   object \n",
      " 40  top_cast_list             6822 non-null   object \n",
      "dtypes: float64(7), int64(16), object(18)\n",
      "memory usage: 2.1+ MB\n"
     ]
    }
   ],
   "source": [
    "clean_data.info()"
   ]
  },
  {
   "cell_type": "code",
   "execution_count": 16,
   "id": "ce23e7aa-4c18-4ccb-b60b-a352a05a04b9",
   "metadata": {},
   "outputs": [
    {
     "data": {
      "text/plain": [
       "0       ['Zooey Deschanel', 'Joseph Gordon-Levitt', 'G...\n",
       "1       ['Steven Strait', 'Camilla Belle', 'Cliff Curt...\n",
       "2       ['Glenn Close', 'Jeff Daniels', 'Joely Richard...\n",
       "3       ['Glenn Close', 'Gérard Depardieu', 'Ioan Gruf...\n",
       "4       ['John Goodman', 'Mary Elizabeth Winstead', 'J...\n",
       "                              ...                        \n",
       "6817    ['Kim Yu-seok', 'Suh Jung', 'Seo Won', 'Son Mi...\n",
       "6818    ['Kim Min-hee', 'Kim Tae-ri', 'Ha Jung-woo', '...\n",
       "6819    ['Choi Min-sik', 'Yoo Ji-tae', 'Kang Hye-jung'...\n",
       "6820    ['Park Hae-il', 'Moon Chae-won', 'Kim Moo-yul'...\n",
       "6821    ['Cho Min-soo', 'Lee Jung-jin', 'Woo Ki-hong',...\n",
       "Name: top_cast, Length: 6822, dtype: object"
      ]
     },
     "execution_count": 16,
     "metadata": {},
     "output_type": "execute_result"
    }
   ],
   "source": [
    "clean_data.top_cast"
   ]
  },
  {
   "cell_type": "code",
   "execution_count": 11,
   "id": "4521684e-a08d-4774-ad63-d50d3b296600",
   "metadata": {},
   "outputs": [],
   "source": [
    "#function to adjust for inflation, input the number and year and it will say the value adjusted for inflation to 2025\n",
    "def adjust_inflation(num, year):\n",
    "    diff = 2025 - year\n",
    "    final_num = num * (1.0325)**diff\n",
    "    return final_num\n",
    "    \n",
    "# def get_entry(x, entry = 'name', rank = 0):\n",
    "#     if isinstance(x, list):\n",
    "#         entries = [i[entry] for i in x]\n",
    "#         # keep only top 3 entries\n",
    "#         if len(entries) > rank:\n",
    "#             out = entries[rank]\n",
    "#         else:\n",
    "#             out = np.nan\n",
    "#         return out\n",
    "\n",
    "#     return np.nan\n",
    "\n",
    "def get_entry(x, rank = 0):\n",
    "    if isinstance(x, list) and len(x) > rank:\n",
    "        out = entries[rank]\n",
    "    else:\n",
    "        out = np.nan\n",
    "    return out\n",
    "\n",
    "    return np.nan\n",
    "\n",
    "def value_before_year(x, variable = \"actor_id_1\", category = \"top_cast\", value_field = \"wroi\", period = 5, data = clean_data):\n",
    "\n",
    "    use_data = data.loc[(x['year'] > data['year'])*((x['year'] - period) <= data['year'])]\n",
    "    if len(use_data) > 0:\n",
    "        mask = np.array([x[variable] in entry for entry in use_data[category]]) if variable != 'director_id' else np.array([x[variable] == entry for entry in use_data[category]])\n",
    "        if np.sum(mask) > 0:\n",
    "            vallist = use_data[mask]\n",
    "            value = vallist[value_field].mean()\n",
    "        else:\n",
    "            value = 0\n",
    "    else:\n",
    "        value = 0\n",
    "    return value"
   ]
  },
  {
   "cell_type": "code",
   "execution_count": 13,
   "id": "86adc667-bcac-49e1-99c9-ed1db47bcda9",
   "metadata": {},
   "outputs": [],
   "source": [
    "# # Create adjusted revenue variables\n",
    "clean_data.loc[:, 'adjusted_worldwide_boxoffice'] = adjust_inflation(clean_data['worldwide_boxoffice'], clean_data['year'])\n",
    "clean_data.loc[:, 'adjusted_domestic_boxoffice'] = adjust_inflation(clean_data['domestic_boxoffice'], clean_data['year'])\n",
    "clean_data.loc[:, 'adjusted_budget'] = adjust_inflation(clean_data['budget'], clean_data['year'])\n",
    "clean_data.loc[:,'wroi'] = clean_data['adjusted_worldwide_boxoffice']/clean_data['adjusted_budget']\n",
    "clean_data.loc[:,'droi'] = clean_data['adjusted_domestic_boxoffice']/clean_data['adjusted_budget']\n",
    "\n",
    "\n",
    "for i in np.arange(0,3):\n",
    "    clean_data.loc[:, 'actor_name_'+str(i + 1)] = clean_data['top_cast'].apply(get_entry, args = ([i]))\n",
    "    clean_data.loc[:, 'actor_id_'+str(i + 1)] = clean_data['top_cast'].apply(get_entry, args = ([i]))\n",
    "    clean_data.loc[:, 'genre_name_'+str(i + 1)] = clean_data['genres_list'].apply(get_entry, args = ([i]))\n",
    "    clean_data.loc[:, 'production_country_'+str(i + 1)] = clean_data['top_production_countries'].apply(get_entry, args = ([i]))\n",
    "    clean_data.loc[:, 'production_company_'+str(i + 1)] = clean_data['top_production_companies'].apply(get_entry, args = ([i]))"
   ]
  },
  {
   "cell_type": "code",
   "execution_count": 17,
   "id": "f4bb510d-bd45-4342-b43e-592ce820930a",
   "metadata": {},
   "outputs": [
    {
     "data": {
      "text/plain": [
       "0      NaN\n",
       "1      NaN\n",
       "2      NaN\n",
       "3      NaN\n",
       "4      NaN\n",
       "        ..\n",
       "6817   NaN\n",
       "6818   NaN\n",
       "6819   NaN\n",
       "6820   NaN\n",
       "6821   NaN\n",
       "Name: actor_id_1, Length: 6822, dtype: float64"
      ]
     },
     "execution_count": 17,
     "metadata": {},
     "output_type": "execute_result"
    }
   ],
   "source": [
    "clean_data.actor_id_1"
   ]
  },
  {
   "cell_type": "code",
   "execution_count": null,
   "id": "f800849e-5569-47cd-8066-42e74da8d048",
   "metadata": {},
   "outputs": [],
   "source": [
    "pairs = [['director_id', 'director_id', 'wroi'],\n",
    "         [\"actor_id_1\", \"top_cast_id\", 'wroi'],[\"actor_id_2\", \"top_cast_id\", 'wroi'], [\"actor_id_3\", \"top_cast_id\", 'wroi'],\n",
    "         [\"genre_name_1\", \"top_genres\", 'wroi'],[\"genre_name_2\", \"top_genres\", 'wroi'], [\"genre_name_2\", \"top_genres\", 'wroi'],\n",
    "         [\"production_company_1\", \"top_production_companies\", 'wroi'],[\"production_company_1\", \"top_production_companies\", 'wroi'], [\"production_company_1\", \"top_production_companies\", 'wroi']]\n",
    "\n",
    "for p in pairs:\n",
    "    combined_dataset.loc[:, 'avg_'+p[2]+'_'+p[0]] = combined_dataset.apply(value_before_year, args = ([p[0], p[1], p[2]]), axis = 1)"
   ]
  }
 ],
 "metadata": {
  "kernelspec": {
   "display_name": "Python 3 (ipykernel)",
   "language": "python",
   "name": "python3"
  },
  "language_info": {
   "codemirror_mode": {
    "name": "ipython",
    "version": 3
   },
   "file_extension": ".py",
   "mimetype": "text/x-python",
   "name": "python",
   "nbconvert_exporter": "python",
   "pygments_lexer": "ipython3",
   "version": "3.12.8"
  }
 },
 "nbformat": 4,
 "nbformat_minor": 5
}
