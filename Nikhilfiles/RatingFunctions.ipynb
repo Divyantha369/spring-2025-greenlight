{
 "cells": [
  {
   "cell_type": "markdown",
   "metadata": {},
   "source": [
    "# Functions for director rating and actor rating\n",
    "\n",
    "This file has the functions for finding the average rating for a director or actor of their movies before a certain year"
   ]
  },
  {
   "cell_type": "markdown",
   "metadata": {
    "vscode": {
     "languageId": "plaintext"
    }
   },
   "source": [
    "## Unraveling the data"
   ]
  },
  {
   "cell_type": "code",
   "execution_count": 3,
   "metadata": {},
   "outputs": [
    {
     "name": "stdout",
     "output_type": "stream",
     "text": [
      "                 final_title  final_budget  final_worldwide_boxoffice  \\\n",
      "0      !Women Art Revolution           NaN                        NaN   \n",
      "1        #1 Cheerleader Camp           NaN                        NaN   \n",
      "2               #chicagoGirl           NaN                        NaN   \n",
      "3                    #Horror     1500000.0                        0.0   \n",
      "4             #Pellichoopulu      200000.0                  5500000.0   \n",
      "...                      ...           ...                        ...   \n",
      "49861                １リットルの涙           NaN                        NaN   \n",
      "49862      １３号待避線より　その護送車を狙え           NaN                        NaN   \n",
      "49863   ２０世紀少年< 第1章> 終わりの始まり    20000000.0                 31244858.0   \n",
      "49864                ３－４Ｘ１０月           NaN                        NaN   \n",
      "49865     ＳＭガールズ セイバーマリオネットＲ           NaN                        NaN   \n",
      "\n",
      "       final_domestic_boxoffice  \\\n",
      "0                           NaN   \n",
      "1                           NaN   \n",
      "2                           NaN   \n",
      "3                           0.0   \n",
      "4                           NaN   \n",
      "...                         ...   \n",
      "49861                       NaN   \n",
      "49862                       NaN   \n",
      "49863                       NaN   \n",
      "49864                    1471.0   \n",
      "49865                       NaN   \n",
      "\n",
      "                                            final_genres  final_runtime  \\\n",
      "0                    [{'id': 99, 'name': 'Documentary'}]           83.0   \n",
      "1      [{'id': 35, 'name': 'Comedy'}, {'id': 18, 'nam...           95.0   \n",
      "2                    [{'id': 99, 'name': 'Documentary'}]           74.0   \n",
      "3      [{'id': 18, 'name': 'Drama'}, {'id': 9648, 'na...           90.0   \n",
      "4      [{'id': 10749, 'name': 'Romance'}, {'id': 35, ...          124.0   \n",
      "...                                                  ...            ...   \n",
      "49861                      [{'id': 18, 'name': 'Drama'}]           98.0   \n",
      "49862  [{'id': 28, 'name': 'Action'}, {'id': 80, 'nam...           79.0   \n",
      "49863  [{'id': 878, 'name': 'Science Fiction'}, {'id'...          142.0   \n",
      "49864  [{'id': 80, 'name': 'Crime'}, {'id': 28, 'name...           96.0   \n",
      "49865  [{'id': 878, 'name': 'Science Fiction'}, {'id'...           30.0   \n",
      "\n",
      "                                          final_overview final_certificate  \\\n",
      "0      Through intimate interviews, provocative art, ...               NaN   \n",
      "1      A pair of horny college guys get summer jobs a...               NaN   \n",
      "2      From her childhood bedroom in the Chicago subu...               NaN   \n",
      "3      Inspired by actual events, a group of 12 year ...         Not Rated   \n",
      "4      Raj Kandukuri and BiG Ben Films in association...               NaN   \n",
      "...                                                  ...               ...   \n",
      "49861  15-year-old Ikeuchi Aya was an ordinary girl, ...               NaN   \n",
      "49862  A sharpshooter kills two prisoners in a police...         Not Rated   \n",
      "49863  In 1969, Kenji, an elementary school kid and h...               NaN   \n",
      "49864  Masaki, a baseball player and gas-station atte...         Not Rated   \n",
      "49865  Jr., the heir of Romana and his battle sabers ...               NaN   \n",
      "\n",
      "      final_original_language  final_rating  ...  \\\n",
      "0                          en           4.3  ...   \n",
      "1                          en           3.4  ...   \n",
      "2                          en           7.0  ...   \n",
      "3                          de           3.4  ...   \n",
      "4                          te           7.8  ...   \n",
      "...                       ...           ...  ...   \n",
      "49861                      ja           7.7  ...   \n",
      "49862                      ja           5.4  ...   \n",
      "49863                      ja           6.7  ...   \n",
      "49864                      ja           6.6  ...   \n",
      "49865                      ja           0.0  ...   \n",
      "\n",
      "                                    production_companies release_date  \\\n",
      "0                                                     []   2010-01-01   \n",
      "1                                                     []   2010-07-27   \n",
      "2                                                     []   2013-11-21   \n",
      "3      [{'name': 'AST Studios', 'id': 75277}, {'name'...   2015-11-20   \n",
      "4      [{'name': 'BigBen Films', 'id': 75835}, {'name...   2016-07-29   \n",
      "...                                                  ...          ...   \n",
      "49861                     [{'name': 'TOEI', 'id': 7260}]   2005-02-05   \n",
      "49862                  [{'name': 'Nikkatsu', 'id': 955}]   1960-01-27   \n",
      "49863  [{'name': 'Cine Bazar', 'id': 5896}, {'name': ...   2008-08-19   \n",
      "49864  [{'name': 'Bandai Visual Company', 'id': 528},...   1990-09-15   \n",
      "49865  [{'name': 'ANIMATE', 'id': 13064}, {'name': 'Z...   1995-05-21   \n",
      "\n",
      "      final_year                                               cast  \\\n",
      "0         2010.0  [{'cast_id': 1001, 'character': 'Herself', 'cr...   \n",
      "1         2010.0  [{'cast_id': 1, 'character': 'Charlene Tilton'...   \n",
      "2         2013.0                                                 []   \n",
      "3         2015.0  [{'cast_id': 0, 'character': \"Alex's 12-Step F...   \n",
      "4         2016.0  [{'cast_id': 0, 'character': 'Prashanth', 'cre...   \n",
      "...          ...                                                ...   \n",
      "49861     2005.0  [{'cast_id': 3, 'character': '', 'credit_id': ...   \n",
      "49862     1960.0  [{'cast_id': 7, 'character': 'Daijiro Tamon', ...   \n",
      "49863     2008.0  [{'cast_id': 15, 'character': 'Kenji Endô', 'c...   \n",
      "49864     1990.0  [{'cast_id': 2, 'character': 'Masaki', 'credit...   \n",
      "49865     1995.0  [{'cast_id': 21, 'character': 'Cherry (voice)'...   \n",
      "\n",
      "                                                    crew  \\\n",
      "0      [{'credit_id': '52fe48c3c3a36847f8178265', 'de...   \n",
      "1      [{'credit_id': '52fe45c4c3a36847f80d96f3', 'de...   \n",
      "2      [{'credit_id': '5362c9a7c3a368156f00049f', 'de...   \n",
      "3      [{'credit_id': '545bbabf0e0a261fb9002212', 'de...   \n",
      "4      [{'credit_id': '571862bbc3a3687fd60029dd', 'de...   \n",
      "...                                                  ...   \n",
      "49861  [{'credit_id': '52fe45bfc3a36847f80d82ab', 'de...   \n",
      "49862  [{'credit_id': '52fe4845c3a368484e0f07f3', 'de...   \n",
      "49863  [{'credit_id': '57fc644ec3a368440f004c0d', 'de...   \n",
      "49864  [{'credit_id': '52fe4522c3a368484e04a68b', 'de...   \n",
      "49865  [{'credit_id': '55504222c3a3685bbf000c5c', 'de...   \n",
      "\n",
      "                        director       director_id  \\\n",
      "0                            NaN               NaN   \n",
      "1                            NaN               NaN   \n",
      "2                            NaN               NaN   \n",
      "3                   Tara Subkoff  /name/nm0836964/   \n",
      "4      Tharun Bhascker Dhaassyam  /name/nm5056902/   \n",
      "...                          ...               ...   \n",
      "49861                        NaN               NaN   \n",
      "49862              Seijun Suzuki  /name/nm0840671/   \n",
      "49863          Yukihiko Tsutsumi  /name/nm1066739/   \n",
      "49864             Takeshi Kitano  /name/nm0001429/   \n",
      "49865                        NaN               NaN   \n",
      "\n",
      "                                                    star  \\\n",
      "0                                                    NaN   \n",
      "1                                                    NaN   \n",
      "2                                                    NaN   \n",
      "3      Sadie Seelert, \\nHaley Murphy, \\nBridget McGar...   \n",
      "4      Abhay Bethiganti, \\nKeshav Deepak, \\nVijay Dev...   \n",
      "...                                                  ...   \n",
      "49861                                                NaN   \n",
      "49862  Michitarô Mizushima, \\nMisako Watanabe, \\nShôi...   \n",
      "49863  Toshiaki Karasawa, \\nEtsushi Toyokawa, \\nTakak...   \n",
      "49864  Takeshi Kitano, \\nYûrei Yanagi, \\nYuriko Ishid...   \n",
      "49865                                                NaN   \n",
      "\n",
      "                                                 star_id     _merge  \n",
      "0                                                    NaN  left_only  \n",
      "1                                                    NaN  left_only  \n",
      "2                                                    NaN  left_only  \n",
      "3      /name/nm6344380/,/name/nm4239131/,/name/nm5376...       both  \n",
      "4      /name/nm8232982/,/name/nm6642302/,/name/nm4797...  left_only  \n",
      "...                                                  ...        ...  \n",
      "49861                                                NaN  left_only  \n",
      "49862  /name/nm0594702/,/name/nm0913843/,/name/nm0654...  left_only  \n",
      "49863  /name/nm0438960/,/name/nm0870317/,/name/nm0865...  left_only  \n",
      "49864  /name/nm0001429/,/name/nm0648764/,/name/nm0410...  left_only  \n",
      "49865                                                NaN  left_only  \n",
      "\n",
      "[49866 rows x 23 columns]\n"
     ]
    }
   ],
   "source": [
    "import pickle\n",
    "\n",
    "#Edit this file path if needed but I think it should work \n",
    "file_path = '../processed_data/combined_dataset.pkl'\n",
    "\n",
    "with open(file_path, 'rb') as file:\n",
    "    data = pickle.load(file)\n",
    "\n",
    "print(data)"
   ]
  },
  {
   "cell_type": "markdown",
   "metadata": {},
   "source": [
    "## Director Rating Function"
   ]
  },
  {
   "cell_type": "markdown",
   "metadata": {},
   "source": [
    "First we create a function that takes in a director name and a year, and then averages the rating of all the movies before that year:"
   ]
  },
  {
   "cell_type": "code",
   "execution_count": 6,
   "metadata": {},
   "outputs": [],
   "source": [
    "def director_rating_before_year(Name, Year):\n",
    "    directorname = str(Name)\n",
    "    vallist = data[(data['director'] == directorname) & (data['final_year'] < (Year))]\n",
    "    rating = vallist['final_rating'].mean()\n",
    "    return rating"
   ]
  },
  {
   "cell_type": "markdown",
   "metadata": {},
   "source": [
    "An example of using this function:"
   ]
  },
  {
   "cell_type": "code",
   "execution_count": 7,
   "metadata": {},
   "outputs": [
    {
     "data": {
      "text/plain": [
       "np.float64(7.650000000000001)"
      ]
     },
     "execution_count": 7,
     "metadata": {},
     "output_type": "execute_result"
    }
   ],
   "source": [
    "director_rating_before_year('Christopher Nolan', 2010)"
   ]
  },
  {
   "cell_type": "markdown",
   "metadata": {},
   "source": [
    "## Actor Rating Function"
   ]
  },
  {
   "cell_type": "markdown",
   "metadata": {},
   "source": [
    "For this first we add a 'star2' column that turns each entry of the star column into a list of strings so it can be worked with"
   ]
  },
  {
   "cell_type": "code",
   "execution_count": 9,
   "metadata": {},
   "outputs": [
    {
     "data": {
      "text/plain": [
       "['Warren Beatty', 'Goldie Hawn', 'Gert Fröbe', 'Robert Webber']"
      ]
     },
     "execution_count": 9,
     "metadata": {},
     "output_type": "execute_result"
    }
   ],
   "source": [
    "data['star2'] = (data['star'].str.replace(\"\\n\",\"\")).str.split(\", \")\n",
    "\n",
    "#Here is an example of what it looks like\n",
    "data['star2'].iloc[9]"
   ]
  },
  {
   "cell_type": "markdown",
   "metadata": {},
   "source": [
    "Now we define the function:"
   ]
  },
  {
   "cell_type": "code",
   "execution_count": 10,
   "metadata": {},
   "outputs": [],
   "source": [
    "def actor_rating_before_year(Name, Year):\n",
    "    actorname = str(Name)\n",
    "    data['star2'] = data['star2'].apply(lambda x: x if isinstance(x, list) else [])\n",
    "    mask = data['star2'].apply(lambda names: actorname in names) & (data['final_year'] < Year)\n",
    "    vallist = data[mask]\n",
    "    rating = vallist['final_rating'].mean()\n",
    "    return rating"
   ]
  },
  {
   "cell_type": "markdown",
   "metadata": {},
   "source": [
    "And here are some examples"
   ]
  },
  {
   "cell_type": "code",
   "execution_count": 12,
   "metadata": {},
   "outputs": [
    {
     "name": "stdout",
     "output_type": "stream",
     "text": [
      "6.46969696969697\n",
      "5.896551724137932\n"
     ]
    }
   ],
   "source": [
    "print(actor_rating_before_year('Tom Cruise', 2022))\n",
    "print(actor_rating_before_year('Ben Stiller', 2022))"
   ]
  },
  {
   "cell_type": "markdown",
   "metadata": {},
   "source": [
    "In case it helps, here is a list of all the actors, listed alphabetically:"
   ]
  },
  {
   "cell_type": "code",
   "execution_count": 30,
   "metadata": {},
   "outputs": [
    {
     "name": "stdout",
     "output_type": "stream",
     "text": [
      "[\"'Ganja' Karuppu\", \"'Hurricane Ryu' Hariken\", \"'Little Billy' Rhodes\", \"'Spring' Mark Adley\", \"'University' Jeevan\", \"'Weird Al' Yankovic\", '50 Cent', 'A Martinez', 'A. Michael Baldwin', 'A. Scott']\n"
     ]
    }
   ],
   "source": [
    "ActorsTotalList = (list(set([actor for sublist in data['star2'] if isinstance(sublist, list) for actor in sublist])))\n",
    "ActorsTotalList = sorted(ActorsTotalList)\n",
    "print(ActorsTotalList[:10])"
   ]
  },
  {
   "cell_type": "markdown",
   "metadata": {},
   "source": [
    "For example of one way to use this, if we4 wanted to list the first 20 actors and their actor rating this is what we would do:"
   ]
  },
  {
   "cell_type": "code",
   "execution_count": 17,
   "metadata": {},
   "outputs": [
    {
     "data": {
      "text/plain": [
       "[[\"'Ganja' Karuppu\", np.float64(6.8)],\n",
       " [\"'Hurricane Ryu' Hariken\", np.float64(5.4)],\n",
       " [\"'Little Billy' Rhodes\", np.float64(1.0)],\n",
       " [\"'Spring' Mark Adley\", np.float64(6.1)],\n",
       " [\"'University' Jeevan\", np.float64(7.1)],\n",
       " [\"'Weird Al' Yankovic\", np.float64(6.7)],\n",
       " ['50 Cent', np.float64(5.975)],\n",
       " ['A Martinez', np.float64(0.0)],\n",
       " ['A. Michael Baldwin', np.float64(5.666666666666667)],\n",
       " ['A. Scott', np.float64(4.5)],\n",
       " ['A.C. Peterson', np.float64(5.5)],\n",
       " ['A.J. Buckley', np.float64(5.466666666666668)],\n",
       " ['A.J. Clarke', np.float64(6.5)],\n",
       " ['A.J. Cook', np.float64(5.3)],\n",
       " ['A.J. Langer', np.float64(5.366666666666667)],\n",
       " ['A.J. van der Merwe', nan],\n",
       " ['A.W. Baskcomb', np.float64(6.0)],\n",
       " ['AJ Bowen', nan],\n",
       " ['AJ Michalka', nan],\n",
       " ['Aachi Manorama', np.float64(5.6)]]"
      ]
     },
     "execution_count": 17,
     "metadata": {},
     "output_type": "execute_result"
    }
   ],
   "source": [
    "def actorratinglistbeforeyear(Alist, Year):\n",
    "    return [[actor, actor_rating_before_year(actor, Year)] for actor in Alist]\n",
    "\n",
    "actorratinglistbeforeyear(ActorsTotalList[:20],2010)"
   ]
  },
  {
   "cell_type": "markdown",
   "metadata": {},
   "source": [
    "# Adjusting for inflation"
   ]
  },
  {
   "cell_type": "code",
   "execution_count": 18,
   "metadata": {},
   "outputs": [],
   "source": [
    " #function to adjust for inflation, input the number and year and it will say the value adjusted for inflation to 2025\n",
    "def adjust_inflation(num, year):\n",
    "    diff = 2025 - year\n",
    "    final_num = num * (1.0325)**diff\n",
    "    return final_num"
   ]
  },
  {
   "cell_type": "code",
   "execution_count": null,
   "metadata": {},
   "outputs": [
    {
     "name": "stdout",
     "output_type": "stream",
     "text": [
      "8260.0\n"
     ]
    }
   ],
   "source": [
    " #heres an example\n",
    "print(adjust_inflation(8000, 2024))"
   ]
  },
  {
   "cell_type": "code",
   "execution_count": 36,
   "metadata": {},
   "outputs": [
    {
     "name": "stdout",
     "output_type": "stream",
     "text": [
      "    final_year  final_worldwide_boxoffice  ww_boxoffice_adjusted  \\\n",
      "0       2010.0                        NaN                    NaN   \n",
      "1       2010.0                        NaN                    NaN   \n",
      "2       2013.0                        NaN                    NaN   \n",
      "3       2015.0                        0.0           0.000000e+00   \n",
      "4       2016.0                  5500000.0           7.334546e+06   \n",
      "5       2016.0                        NaN                    NaN   \n",
      "6       2014.0                        NaN                    NaN   \n",
      "7       2008.0                        NaN                    NaN   \n",
      "8       2008.0                        NaN                    NaN   \n",
      "9       1971.0                        NaN                    NaN   \n",
      "10      2013.0                        NaN                    NaN   \n",
      "11      1917.0                        NaN                    NaN   \n",
      "12      2014.0                  1625847.0           2.311375e+06   \n",
      "13      2005.0                        NaN                    NaN   \n",
      "14      1974.0                        NaN                    NaN   \n",
      "15      1985.0                        NaN                    NaN   \n",
      "16      2006.0                   966214.0           1.774126e+06   \n",
      "17      1934.0                        NaN                    NaN   \n",
      "18      1986.0                   442000.0           1.538632e+06   \n",
      "19      2001.0                        NaN                    NaN   \n",
      "20      2015.0                        NaN                    NaN   \n",
      "21      2001.0                        NaN                    NaN   \n",
      "22      1974.0                        NaN                    NaN   \n",
      "23      2009.0                 34515303.0           5.757748e+07   \n",
      "24      2011.0                        NaN                    NaN   \n",
      "25      2015.0                        NaN                    NaN   \n",
      "26      1988.0                        NaN                    NaN   \n",
      "27      2015.0                        NaN                    NaN   \n",
      "28      2009.0                   230600.0           3.846806e+05   \n",
      "29      1974.0                        NaN                    NaN   \n",
      "\n",
      "                           final_title  \n",
      "0                !Women Art Revolution  \n",
      "1                  #1 Cheerleader Camp  \n",
      "2                         #chicagoGirl  \n",
      "3                              #Horror  \n",
      "4                       #Pellichoopulu  \n",
      "5                         #SELFIEPARTY  \n",
      "6   $50K and a Call Girl: A Love Story  \n",
      "7                             $5 a Day  \n",
      "8                                $9.99  \n",
      "9                            $ Dollars  \n",
      "10                          $ellebrity  \n",
      "11                             '49-'17  \n",
      "12                                 '71  \n",
      "13                                 'D'  \n",
      "14                         'Gator Bait  \n",
      "15     'Master Harold'... and the Boys  \n",
      "16                  'N Beetje Verliefd  \n",
      "17            'Neath the Arizona Skies  \n",
      "18                      'night, Mother  \n",
      "19                             'R Xmas  \n",
      "20            'Tis the Season for Love  \n",
      "21                     'Twas the Night  \n",
      "22    'Twas the Night Before Christmas  \n",
      "23                (500) Days of Summer  \n",
      "24                           (A)Sexual  \n",
      "25  (Dis)Honesty: The Truth About Lies  \n",
      "26    (Entlastungen) Pipilottis Fehler  \n",
      "27                            (T)ERROR  \n",
      "28                          (Untitled)  \n",
      "29                           (秘)色情めす市場  \n"
     ]
    }
   ],
   "source": [
    "#example applying it to the column box office\n",
    "data['ww_boxoffice_adjusted'] = adjust_inflation(data['final_worldwide_boxoffice'], data['final_year'])\n",
    "print(data[[ 'final_year','final_worldwide_boxoffice', 'ww_boxoffice_adjusted','final_title']][:30])"
   ]
  },
  {
   "cell_type": "code",
   "execution_count": null,
   "metadata": {},
   "outputs": [
    {
     "data": {
      "text/plain": [
       "7334545.928564244"
      ]
     },
     "execution_count": 35,
     "metadata": {},
     "output_type": "execute_result"
    }
   ],
   "source": []
  },
  {
   "cell_type": "code",
   "execution_count": null,
   "metadata": {},
   "outputs": [],
   "source": []
  }
 ],
 "metadata": {
  "kernelspec": {
   "display_name": "erdos_spring_2025",
   "language": "python",
   "name": "python3"
  },
  "language_info": {
   "codemirror_mode": {
    "name": "ipython",
    "version": 3
   },
   "file_extension": ".py",
   "mimetype": "text/x-python",
   "name": "python",
   "nbconvert_exporter": "python",
   "pygments_lexer": "ipython3",
   "version": "3.12.8"
  }
 },
 "nbformat": 4,
 "nbformat_minor": 2
}
